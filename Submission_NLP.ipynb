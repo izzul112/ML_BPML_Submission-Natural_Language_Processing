{
  "nbformat": 4,
  "nbformat_minor": 0,
  "metadata": {
    "colab": {
      "name": "Submission-NLP.ipynb",
      "provenance": [],
      "authorship_tag": "ABX9TyOJ7ODJaTvqAUslj201XfAD",
      "include_colab_link": true
    },
    "kernelspec": {
      "name": "python3",
      "display_name": "Python 3"
    }
  },
  "cells": [
    {
      "cell_type": "markdown",
      "metadata": {
        "id": "view-in-github",
        "colab_type": "text"
      },
      "source": [
        "<a href=\"https://colab.research.google.com/github/izzul112/Submission-NLP/blob/master/Submission_NLP.ipynb\" target=\"_parent\"><img src=\"https://colab.research.google.com/assets/colab-badge.svg\" alt=\"Open In Colab\"/></a>"
      ]
    },
    {
      "cell_type": "code",
      "metadata": {
        "id": "pv6p5S-6naA6",
        "colab_type": "code",
        "colab": {}
      },
      "source": [
        "import pandas as pd\n",
        "df = pd.read_csv('test.csv')\n",
        "df = df.drop(columns=['Title'])"
      ],
      "execution_count": 1,
      "outputs": []
    },
    {
      "cell_type": "code",
      "metadata": {
        "id": "sIDXZi4Y2hKj",
        "colab_type": "code",
        "colab": {}
      },
      "source": [
        "# Untuk mengganti nama kolom dari  Class Index menjadi Class_Index\n",
        "\n",
        "df.rename(columns={'Class Index':'Class_Index'}, inplace=True)"
      ],
      "execution_count": 2,
      "outputs": []
    },
    {
      "cell_type": "code",
      "metadata": {
        "id": "z8tB8ao_ph8W",
        "colab_type": "code",
        "colab": {
          "base_uri": "https://localhost:8080/",
          "height": 255
        },
        "outputId": "0ef2f6db-dd69-4400-c187-b2d2df86c56d"
      },
      "source": [
        "df.head"
      ],
      "execution_count": 3,
      "outputs": [
        {
          "output_type": "execute_result",
          "data": {
            "text/plain": [
              "<bound method NDFrame.head of       Class_Index                                        Description\n",
              "0               3  Unions representing workers at Turner   Newall...\n",
              "1               4  SPACE.com - TORONTO, Canada -- A second\\team o...\n",
              "2               4  AP - A company founded by a chemistry research...\n",
              "3               4  AP - It's barely dawn when Mike Fitzpatrick st...\n",
              "4               4  AP - Southern California's smog-fighting agenc...\n",
              "...           ...                                                ...\n",
              "7595            1  Ukrainian presidential candidate Viktor Yushch...\n",
              "7596            2  With the supply of attractive pitching options...\n",
              "7597            2  Like Roger Clemens did almost exactly eight ye...\n",
              "7598            3  SINGAPORE : Doctors in the United States have ...\n",
              "7599            3  EBay plans to buy the apartment and home renta...\n",
              "\n",
              "[7600 rows x 2 columns]>"
            ]
          },
          "metadata": {
            "tags": []
          },
          "execution_count": 3
        }
      ]
    },
    {
      "cell_type": "code",
      "metadata": {
        "id": "VGFO7LO1qt_6",
        "colab_type": "code",
        "colab": {
          "base_uri": "https://localhost:8080/",
          "height": 419
        },
        "outputId": "2ca431af-df36-4a32-eab6-c138f043c1f3"
      },
      "source": [
        "category = pd.get_dummies(df.Class_Index)\n",
        "df_baru = pd.concat([df, category], axis=1)\n",
        "df_baru = df_baru.drop(columns='Class_Index')\n",
        "df_baru"
      ],
      "execution_count": 4,
      "outputs": [
        {
          "output_type": "execute_result",
          "data": {
            "text/html": [
              "<div>\n",
              "<style scoped>\n",
              "    .dataframe tbody tr th:only-of-type {\n",
              "        vertical-align: middle;\n",
              "    }\n",
              "\n",
              "    .dataframe tbody tr th {\n",
              "        vertical-align: top;\n",
              "    }\n",
              "\n",
              "    .dataframe thead th {\n",
              "        text-align: right;\n",
              "    }\n",
              "</style>\n",
              "<table border=\"1\" class=\"dataframe\">\n",
              "  <thead>\n",
              "    <tr style=\"text-align: right;\">\n",
              "      <th></th>\n",
              "      <th>Description</th>\n",
              "      <th>1</th>\n",
              "      <th>2</th>\n",
              "      <th>3</th>\n",
              "      <th>4</th>\n",
              "    </tr>\n",
              "  </thead>\n",
              "  <tbody>\n",
              "    <tr>\n",
              "      <th>0</th>\n",
              "      <td>Unions representing workers at Turner   Newall...</td>\n",
              "      <td>0</td>\n",
              "      <td>0</td>\n",
              "      <td>1</td>\n",
              "      <td>0</td>\n",
              "    </tr>\n",
              "    <tr>\n",
              "      <th>1</th>\n",
              "      <td>SPACE.com - TORONTO, Canada -- A second\\team o...</td>\n",
              "      <td>0</td>\n",
              "      <td>0</td>\n",
              "      <td>0</td>\n",
              "      <td>1</td>\n",
              "    </tr>\n",
              "    <tr>\n",
              "      <th>2</th>\n",
              "      <td>AP - A company founded by a chemistry research...</td>\n",
              "      <td>0</td>\n",
              "      <td>0</td>\n",
              "      <td>0</td>\n",
              "      <td>1</td>\n",
              "    </tr>\n",
              "    <tr>\n",
              "      <th>3</th>\n",
              "      <td>AP - It's barely dawn when Mike Fitzpatrick st...</td>\n",
              "      <td>0</td>\n",
              "      <td>0</td>\n",
              "      <td>0</td>\n",
              "      <td>1</td>\n",
              "    </tr>\n",
              "    <tr>\n",
              "      <th>4</th>\n",
              "      <td>AP - Southern California's smog-fighting agenc...</td>\n",
              "      <td>0</td>\n",
              "      <td>0</td>\n",
              "      <td>0</td>\n",
              "      <td>1</td>\n",
              "    </tr>\n",
              "    <tr>\n",
              "      <th>...</th>\n",
              "      <td>...</td>\n",
              "      <td>...</td>\n",
              "      <td>...</td>\n",
              "      <td>...</td>\n",
              "      <td>...</td>\n",
              "    </tr>\n",
              "    <tr>\n",
              "      <th>7595</th>\n",
              "      <td>Ukrainian presidential candidate Viktor Yushch...</td>\n",
              "      <td>1</td>\n",
              "      <td>0</td>\n",
              "      <td>0</td>\n",
              "      <td>0</td>\n",
              "    </tr>\n",
              "    <tr>\n",
              "      <th>7596</th>\n",
              "      <td>With the supply of attractive pitching options...</td>\n",
              "      <td>0</td>\n",
              "      <td>1</td>\n",
              "      <td>0</td>\n",
              "      <td>0</td>\n",
              "    </tr>\n",
              "    <tr>\n",
              "      <th>7597</th>\n",
              "      <td>Like Roger Clemens did almost exactly eight ye...</td>\n",
              "      <td>0</td>\n",
              "      <td>1</td>\n",
              "      <td>0</td>\n",
              "      <td>0</td>\n",
              "    </tr>\n",
              "    <tr>\n",
              "      <th>7598</th>\n",
              "      <td>SINGAPORE : Doctors in the United States have ...</td>\n",
              "      <td>0</td>\n",
              "      <td>0</td>\n",
              "      <td>1</td>\n",
              "      <td>0</td>\n",
              "    </tr>\n",
              "    <tr>\n",
              "      <th>7599</th>\n",
              "      <td>EBay plans to buy the apartment and home renta...</td>\n",
              "      <td>0</td>\n",
              "      <td>0</td>\n",
              "      <td>1</td>\n",
              "      <td>0</td>\n",
              "    </tr>\n",
              "  </tbody>\n",
              "</table>\n",
              "<p>7600 rows × 5 columns</p>\n",
              "</div>"
            ],
            "text/plain": [
              "                                            Description  1  2  3  4\n",
              "0     Unions representing workers at Turner   Newall...  0  0  1  0\n",
              "1     SPACE.com - TORONTO, Canada -- A second\\team o...  0  0  0  1\n",
              "2     AP - A company founded by a chemistry research...  0  0  0  1\n",
              "3     AP - It's barely dawn when Mike Fitzpatrick st...  0  0  0  1\n",
              "4     AP - Southern California's smog-fighting agenc...  0  0  0  1\n",
              "...                                                 ... .. .. .. ..\n",
              "7595  Ukrainian presidential candidate Viktor Yushch...  1  0  0  0\n",
              "7596  With the supply of attractive pitching options...  0  1  0  0\n",
              "7597  Like Roger Clemens did almost exactly eight ye...  0  1  0  0\n",
              "7598  SINGAPORE : Doctors in the United States have ...  0  0  1  0\n",
              "7599  EBay plans to buy the apartment and home renta...  0  0  1  0\n",
              "\n",
              "[7600 rows x 5 columns]"
            ]
          },
          "metadata": {
            "tags": []
          },
          "execution_count": 4
        }
      ]
    },
    {
      "cell_type": "markdown",
      "metadata": {
        "id": "Zjlksk795xL1",
        "colab_type": "text"
      },
      "source": [
        "1 = World\n",
        "\n",
        "2 = Sports\n",
        "\n",
        "3 = Business\n",
        "\n",
        "4 = Sci/Tech"
      ]
    },
    {
      "cell_type": "code",
      "metadata": {
        "id": "f9ueJzaD5L7n",
        "colab_type": "code",
        "colab": {}
      },
      "source": [
        "judul = df_baru['Description'].values\n",
        "label = df_baru[[1, 2, 3, 4]].values"
      ],
      "execution_count": 5,
      "outputs": []
    },
    {
      "cell_type": "code",
      "metadata": {
        "id": "Q6Fh6yiSz3_d",
        "colab_type": "code",
        "colab": {}
      },
      "source": [
        "from sklearn.model_selection import train_test_split\n",
        "judul_latih, judul_test, label_latih, label_test = train_test_split(judul, label, test_size=0.2)"
      ],
      "execution_count": 6,
      "outputs": []
    },
    {
      "cell_type": "code",
      "metadata": {
        "id": "VmcqdvBf2GZ7",
        "colab_type": "code",
        "colab": {}
      },
      "source": [
        "from tensorflow.keras.preprocessing.text import Tokenizer\n",
        "from tensorflow.keras.preprocessing.sequence import pad_sequences\n",
        " \n",
        "tokenizer = Tokenizer(num_words=5000, oov_token='x')\n",
        "tokenizer.fit_on_texts(judul_latih) \n",
        "# tokenizer.fit_on_texts(sinopsis_test)\n",
        " \n",
        "sekuens_latih = tokenizer.texts_to_sequences(judul_latih)\n",
        "sekuens_test = tokenizer.texts_to_sequences(judul_test)\n",
        " \n",
        "padded_latih = pad_sequences(sekuens_latih) \n",
        "padded_test = pad_sequences(sekuens_test)"
      ],
      "execution_count": 7,
      "outputs": []
    },
    {
      "cell_type": "code",
      "metadata": {
        "id": "us7doAP82nAy",
        "colab_type": "code",
        "colab": {}
      },
      "source": [
        "import tensorflow as tf\n",
        "model = tf.keras.Sequential([\n",
        "    tf.keras.layers.Embedding(input_dim=5000, output_dim=16),\n",
        "    tf.keras.layers.LSTM(64),\n",
        "    tf.keras.layers.Flatten(),\n",
        "    tf.keras.layers.Dropout(0.5),\n",
        "    tf.keras.layers.Dense(512, activation='relu'),\n",
        "    tf.keras.layers.Dense(32, activation='relu'),\n",
        "    tf.keras.layers.Dense(4, activation='softmax')\n",
        "])\n",
        "model.compile(loss='categorical_crossentropy',optimizer='adam',metrics=['accuracy'])"
      ],
      "execution_count": 8,
      "outputs": []
    },
    {
      "cell_type": "code",
      "metadata": {
        "id": "Tei3Fwp42px_",
        "colab_type": "code",
        "colab": {
          "base_uri": "https://localhost:8080/",
          "height": 1000
        },
        "outputId": "df1cf38a-4765-45c4-adb5-f593eb2a499e"
      },
      "source": [
        "num_epochs = 30\n",
        "history = model.fit(padded_latih, label_latih, epochs=num_epochs, \n",
        "                    validation_data=(padded_test, label_test), verbose=2)"
      ],
      "execution_count": 9,
      "outputs": [
        {
          "output_type": "stream",
          "text": [
            "Epoch 1/30\n",
            "190/190 - 11s - loss: 1.1228 - accuracy: 0.4230 - val_loss: 0.8801 - val_accuracy: 0.6046\n",
            "Epoch 2/30\n",
            "190/190 - 11s - loss: 0.6447 - accuracy: 0.7150 - val_loss: 0.6600 - val_accuracy: 0.7401\n",
            "Epoch 3/30\n",
            "190/190 - 11s - loss: 0.3606 - accuracy: 0.8712 - val_loss: 0.6154 - val_accuracy: 0.7908\n",
            "Epoch 4/30\n",
            "190/190 - 11s - loss: 0.2318 - accuracy: 0.9243 - val_loss: 0.6690 - val_accuracy: 0.8105\n",
            "Epoch 5/30\n",
            "190/190 - 11s - loss: 0.1566 - accuracy: 0.9500 - val_loss: 0.6934 - val_accuracy: 0.7987\n",
            "Epoch 6/30\n",
            "190/190 - 11s - loss: 0.1195 - accuracy: 0.9635 - val_loss: 0.8214 - val_accuracy: 0.7954\n",
            "Epoch 7/30\n",
            "190/190 - 11s - loss: 0.0910 - accuracy: 0.9730 - val_loss: 0.8535 - val_accuracy: 0.7895\n",
            "Epoch 8/30\n",
            "190/190 - 11s - loss: 0.0804 - accuracy: 0.9729 - val_loss: 0.9579 - val_accuracy: 0.7974\n",
            "Epoch 9/30\n",
            "190/190 - 11s - loss: 0.0634 - accuracy: 0.9801 - val_loss: 1.0325 - val_accuracy: 0.7770\n",
            "Epoch 10/30\n",
            "190/190 - 11s - loss: 0.0389 - accuracy: 0.9893 - val_loss: 1.3804 - val_accuracy: 0.7289\n",
            "Epoch 11/30\n",
            "190/190 - 11s - loss: 0.0589 - accuracy: 0.9824 - val_loss: 1.1178 - val_accuracy: 0.7849\n",
            "Epoch 12/30\n",
            "190/190 - 11s - loss: 0.0240 - accuracy: 0.9934 - val_loss: 1.3594 - val_accuracy: 0.7908\n",
            "Epoch 13/30\n",
            "190/190 - 11s - loss: 0.0283 - accuracy: 0.9910 - val_loss: 1.3570 - val_accuracy: 0.7941\n",
            "Epoch 14/30\n",
            "190/190 - 11s - loss: 0.0343 - accuracy: 0.9893 - val_loss: 1.3465 - val_accuracy: 0.7934\n",
            "Epoch 15/30\n",
            "190/190 - 11s - loss: 0.0421 - accuracy: 0.9859 - val_loss: 1.3368 - val_accuracy: 0.7967\n",
            "Epoch 16/30\n",
            "190/190 - 11s - loss: 0.0375 - accuracy: 0.9885 - val_loss: 1.3247 - val_accuracy: 0.7717\n",
            "Epoch 17/30\n",
            "190/190 - 11s - loss: 0.0176 - accuracy: 0.9957 - val_loss: 1.3393 - val_accuracy: 0.7829\n",
            "Epoch 18/30\n",
            "190/190 - 11s - loss: 0.0128 - accuracy: 0.9956 - val_loss: 1.4554 - val_accuracy: 0.7849\n",
            "Epoch 19/30\n",
            "190/190 - 11s - loss: 0.0098 - accuracy: 0.9970 - val_loss: 1.6446 - val_accuracy: 0.7612\n",
            "Epoch 20/30\n",
            "190/190 - 11s - loss: 0.0291 - accuracy: 0.9903 - val_loss: 1.6760 - val_accuracy: 0.7803\n",
            "Epoch 21/30\n",
            "190/190 - 11s - loss: 0.0266 - accuracy: 0.9921 - val_loss: 1.3956 - val_accuracy: 0.7855\n",
            "Epoch 22/30\n",
            "190/190 - 11s - loss: 0.0204 - accuracy: 0.9944 - val_loss: 1.6415 - val_accuracy: 0.7724\n",
            "Epoch 23/30\n",
            "190/190 - 11s - loss: 0.0124 - accuracy: 0.9962 - val_loss: 1.5534 - val_accuracy: 0.7947\n",
            "Epoch 24/30\n",
            "190/190 - 11s - loss: 0.0159 - accuracy: 0.9942 - val_loss: 1.5687 - val_accuracy: 0.7875\n",
            "Epoch 25/30\n",
            "190/190 - 11s - loss: 0.0167 - accuracy: 0.9957 - val_loss: 1.7237 - val_accuracy: 0.7724\n",
            "Epoch 26/30\n",
            "190/190 - 11s - loss: 0.0226 - accuracy: 0.9928 - val_loss: 1.6591 - val_accuracy: 0.7921\n",
            "Epoch 27/30\n",
            "190/190 - 11s - loss: 0.0146 - accuracy: 0.9944 - val_loss: 1.7224 - val_accuracy: 0.7868\n",
            "Epoch 28/30\n",
            "190/190 - 11s - loss: 0.0174 - accuracy: 0.9947 - val_loss: 1.7625 - val_accuracy: 0.8000\n",
            "Epoch 29/30\n",
            "190/190 - 11s - loss: 0.0063 - accuracy: 0.9977 - val_loss: 1.7833 - val_accuracy: 0.7928\n",
            "Epoch 30/30\n",
            "190/190 - 11s - loss: 0.0027 - accuracy: 0.9992 - val_loss: 1.9899 - val_accuracy: 0.7928\n"
          ],
          "name": "stdout"
        }
      ]
    }
  ]
}